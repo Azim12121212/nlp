{
  "metadata": {
    "kernelspec": {
      "language": "python",
      "display_name": "Python 3",
      "name": "python3"
    },
    "language_info": {
      "name": "python",
      "version": "3.10.12",
      "mimetype": "text/x-python",
      "codemirror_mode": {
        "name": "ipython",
        "version": 3
      },
      "pygments_lexer": "ipython3",
      "nbconvert_exporter": "python",
      "file_extension": ".py"
    },
    "kaggle": {
      "accelerator": "none",
      "dataSources": [
        {
          "sourceId": 10269584,
          "sourceType": "datasetVersion",
          "datasetId": 6353824
        },
        {
          "sourceId": 10269806,
          "sourceType": "datasetVersion",
          "datasetId": 6353879
        }
      ],
      "dockerImageVersionId": 30822,
      "isInternetEnabled": false,
      "language": "python",
      "sourceType": "notebook",
      "isGpuEnabled": false
    },
    "colab": {
      "name": "Classify_enrollees_by_educ_programs",
      "provenance": [],
      "include_colab_link": true
    }
  },
  "nbformat_minor": 0,
  "nbformat": 4,
  "cells": [
    {
      "cell_type": "markdown",
      "metadata": {
        "id": "view-in-github",
        "colab_type": "text"
      },
      "source": [
        "<a href=\"https://colab.research.google.com/github/Azim12121212/nlp/blob/main/Classify_enrollees_by_educ_programs.ipynb\" target=\"_parent\"><img src=\"https://colab.research.google.com/assets/colab-badge.svg\" alt=\"Open In Colab\"/></a>"
      ]
    },
    {
      "cell_type": "code",
      "source": [
        "# This Python 3 environment comes with many helpful analytics libraries installed\n",
        "# It is defined by the kaggle/python Docker image: https://github.com/kaggle/docker-python\n",
        "# For example, here's several helpful packages to load\n",
        "\n",
        "import numpy as np # linear algebra\n",
        "import pandas as pd # data processing, CSV file I/O (e.g. pd.read_csv)\n",
        "\n",
        "# Input data files are available in the read-only \"../input/\" directory\n",
        "# For example, running this (by clicking run or pressing Shift+Enter) will list all files under the input directory\n",
        "\n",
        "import os\n",
        "for dirname, _, filenames in os.walk('/kaggle/input'):\n",
        "    for filename in filenames:\n",
        "        print(os.path.join(dirname, filename))\n",
        "\n",
        "# You can write up to 20GB to the current directory (/kaggle/working/) that gets preserved as output when you create a version using \"Save & Run All\"\n",
        "# You can also write temporary files to /kaggle/temp/, but they won't be saved outside of the current session"
      ],
      "metadata": {
        "_uuid": "8f2839f25d086af736a60e9eeb907d3b93b6e0e5",
        "_cell_guid": "b1076dfc-b9ad-4769-8c92-a6c4dae69d19",
        "trusted": true,
        "execution": {
          "iopub.status.busy": "2024-12-22T12:44:20.728335Z",
          "iopub.execute_input": "2024-12-22T12:44:20.728708Z",
          "iopub.status.idle": "2024-12-22T12:44:20.740417Z",
          "shell.execute_reply.started": "2024-12-22T12:44:20.728667Z",
          "shell.execute_reply": "2024-12-22T12:44:20.739366Z"
        },
        "id": "zLFdBxncov15"
      },
      "outputs": [],
      "execution_count": 13
    },
    {
      "cell_type": "code",
      "source": [
        "df = pd.read_csv('sample_data/motivational_letters.csv',encoding='cp1252')\n",
        "df.head()"
      ],
      "metadata": {
        "trusted": true,
        "execution": {
          "iopub.status.busy": "2024-12-22T12:51:45.578704Z",
          "iopub.execute_input": "2024-12-22T12:51:45.579104Z",
          "iopub.status.idle": "2024-12-22T12:51:45.602129Z",
          "shell.execute_reply.started": "2024-12-22T12:51:45.579072Z",
          "shell.execute_reply": "2024-12-22T12:51:45.600779Z"
        },
        "id": "EIQeDL8_ov17",
        "outputId": "b95266c1-18ba-4ded-f1d7-7b7398499f2c",
        "colab": {
          "base_uri": "https://localhost:8080/",
          "height": 206
        }
      },
      "outputs": [
        {
          "output_type": "execute_result",
          "data": {
            "text/plain": [
              "            Educational Program  \\\n",
              "0                    E-Business   \n",
              "1         Innovation Management   \n",
              "2  Business Journalism, SMM, PR   \n",
              "3              Computer Science   \n",
              "4            Big Data Analytics   \n",
              "\n",
              "                                 Motivational Letter  \n",
              "0  Dear Admissions Committee, The rapid digitaliz...  \n",
              "1  Dear Admissions Committee, In today’s rapidly ...  \n",
              "2  Dear Admissions Committee, In the digital age,...  \n",
              "3  Dear Admissions Committee, Computing has becom...  \n",
              "4  Dear Admissions Committee, In the age of infor...  "
            ],
            "text/html": [
              "\n",
              "  <div id=\"df-83113a87-ac06-4b1f-975c-b8f2fb5358d7\" class=\"colab-df-container\">\n",
              "    <div>\n",
              "<style scoped>\n",
              "    .dataframe tbody tr th:only-of-type {\n",
              "        vertical-align: middle;\n",
              "    }\n",
              "\n",
              "    .dataframe tbody tr th {\n",
              "        vertical-align: top;\n",
              "    }\n",
              "\n",
              "    .dataframe thead th {\n",
              "        text-align: right;\n",
              "    }\n",
              "</style>\n",
              "<table border=\"1\" class=\"dataframe\">\n",
              "  <thead>\n",
              "    <tr style=\"text-align: right;\">\n",
              "      <th></th>\n",
              "      <th>Educational Program</th>\n",
              "      <th>Motivational Letter</th>\n",
              "    </tr>\n",
              "  </thead>\n",
              "  <tbody>\n",
              "    <tr>\n",
              "      <th>0</th>\n",
              "      <td>E-Business</td>\n",
              "      <td>Dear Admissions Committee, The rapid digitaliz...</td>\n",
              "    </tr>\n",
              "    <tr>\n",
              "      <th>1</th>\n",
              "      <td>Innovation Management</td>\n",
              "      <td>Dear Admissions Committee, In today’s rapidly ...</td>\n",
              "    </tr>\n",
              "    <tr>\n",
              "      <th>2</th>\n",
              "      <td>Business Journalism, SMM, PR</td>\n",
              "      <td>Dear Admissions Committee, In the digital age,...</td>\n",
              "    </tr>\n",
              "    <tr>\n",
              "      <th>3</th>\n",
              "      <td>Computer Science</td>\n",
              "      <td>Dear Admissions Committee, Computing has becom...</td>\n",
              "    </tr>\n",
              "    <tr>\n",
              "      <th>4</th>\n",
              "      <td>Big Data Analytics</td>\n",
              "      <td>Dear Admissions Committee, In the age of infor...</td>\n",
              "    </tr>\n",
              "  </tbody>\n",
              "</table>\n",
              "</div>\n",
              "    <div class=\"colab-df-buttons\">\n",
              "\n",
              "  <div class=\"colab-df-container\">\n",
              "    <button class=\"colab-df-convert\" onclick=\"convertToInteractive('df-83113a87-ac06-4b1f-975c-b8f2fb5358d7')\"\n",
              "            title=\"Convert this dataframe to an interactive table.\"\n",
              "            style=\"display:none;\">\n",
              "\n",
              "  <svg xmlns=\"http://www.w3.org/2000/svg\" height=\"24px\" viewBox=\"0 -960 960 960\">\n",
              "    <path d=\"M120-120v-720h720v720H120Zm60-500h600v-160H180v160Zm220 220h160v-160H400v160Zm0 220h160v-160H400v160ZM180-400h160v-160H180v160Zm440 0h160v-160H620v160ZM180-180h160v-160H180v160Zm440 0h160v-160H620v160Z\"/>\n",
              "  </svg>\n",
              "    </button>\n",
              "\n",
              "  <style>\n",
              "    .colab-df-container {\n",
              "      display:flex;\n",
              "      gap: 12px;\n",
              "    }\n",
              "\n",
              "    .colab-df-convert {\n",
              "      background-color: #E8F0FE;\n",
              "      border: none;\n",
              "      border-radius: 50%;\n",
              "      cursor: pointer;\n",
              "      display: none;\n",
              "      fill: #1967D2;\n",
              "      height: 32px;\n",
              "      padding: 0 0 0 0;\n",
              "      width: 32px;\n",
              "    }\n",
              "\n",
              "    .colab-df-convert:hover {\n",
              "      background-color: #E2EBFA;\n",
              "      box-shadow: 0px 1px 2px rgba(60, 64, 67, 0.3), 0px 1px 3px 1px rgba(60, 64, 67, 0.15);\n",
              "      fill: #174EA6;\n",
              "    }\n",
              "\n",
              "    .colab-df-buttons div {\n",
              "      margin-bottom: 4px;\n",
              "    }\n",
              "\n",
              "    [theme=dark] .colab-df-convert {\n",
              "      background-color: #3B4455;\n",
              "      fill: #D2E3FC;\n",
              "    }\n",
              "\n",
              "    [theme=dark] .colab-df-convert:hover {\n",
              "      background-color: #434B5C;\n",
              "      box-shadow: 0px 1px 3px 1px rgba(0, 0, 0, 0.15);\n",
              "      filter: drop-shadow(0px 1px 2px rgba(0, 0, 0, 0.3));\n",
              "      fill: #FFFFFF;\n",
              "    }\n",
              "  </style>\n",
              "\n",
              "    <script>\n",
              "      const buttonEl =\n",
              "        document.querySelector('#df-83113a87-ac06-4b1f-975c-b8f2fb5358d7 button.colab-df-convert');\n",
              "      buttonEl.style.display =\n",
              "        google.colab.kernel.accessAllowed ? 'block' : 'none';\n",
              "\n",
              "      async function convertToInteractive(key) {\n",
              "        const element = document.querySelector('#df-83113a87-ac06-4b1f-975c-b8f2fb5358d7');\n",
              "        const dataTable =\n",
              "          await google.colab.kernel.invokeFunction('convertToInteractive',\n",
              "                                                    [key], {});\n",
              "        if (!dataTable) return;\n",
              "\n",
              "        const docLinkHtml = 'Like what you see? Visit the ' +\n",
              "          '<a target=\"_blank\" href=https://colab.research.google.com/notebooks/data_table.ipynb>data table notebook</a>'\n",
              "          + ' to learn more about interactive tables.';\n",
              "        element.innerHTML = '';\n",
              "        dataTable['output_type'] = 'display_data';\n",
              "        await google.colab.output.renderOutput(dataTable, element);\n",
              "        const docLink = document.createElement('div');\n",
              "        docLink.innerHTML = docLinkHtml;\n",
              "        element.appendChild(docLink);\n",
              "      }\n",
              "    </script>\n",
              "  </div>\n",
              "\n",
              "\n",
              "<div id=\"df-b75faebe-10c8-49d7-a097-17f0365aea8b\">\n",
              "  <button class=\"colab-df-quickchart\" onclick=\"quickchart('df-b75faebe-10c8-49d7-a097-17f0365aea8b')\"\n",
              "            title=\"Suggest charts\"\n",
              "            style=\"display:none;\">\n",
              "\n",
              "<svg xmlns=\"http://www.w3.org/2000/svg\" height=\"24px\"viewBox=\"0 0 24 24\"\n",
              "     width=\"24px\">\n",
              "    <g>\n",
              "        <path d=\"M19 3H5c-1.1 0-2 .9-2 2v14c0 1.1.9 2 2 2h14c1.1 0 2-.9 2-2V5c0-1.1-.9-2-2-2zM9 17H7v-7h2v7zm4 0h-2V7h2v10zm4 0h-2v-4h2v4z\"/>\n",
              "    </g>\n",
              "</svg>\n",
              "  </button>\n",
              "\n",
              "<style>\n",
              "  .colab-df-quickchart {\n",
              "      --bg-color: #E8F0FE;\n",
              "      --fill-color: #1967D2;\n",
              "      --hover-bg-color: #E2EBFA;\n",
              "      --hover-fill-color: #174EA6;\n",
              "      --disabled-fill-color: #AAA;\n",
              "      --disabled-bg-color: #DDD;\n",
              "  }\n",
              "\n",
              "  [theme=dark] .colab-df-quickchart {\n",
              "      --bg-color: #3B4455;\n",
              "      --fill-color: #D2E3FC;\n",
              "      --hover-bg-color: #434B5C;\n",
              "      --hover-fill-color: #FFFFFF;\n",
              "      --disabled-bg-color: #3B4455;\n",
              "      --disabled-fill-color: #666;\n",
              "  }\n",
              "\n",
              "  .colab-df-quickchart {\n",
              "    background-color: var(--bg-color);\n",
              "    border: none;\n",
              "    border-radius: 50%;\n",
              "    cursor: pointer;\n",
              "    display: none;\n",
              "    fill: var(--fill-color);\n",
              "    height: 32px;\n",
              "    padding: 0;\n",
              "    width: 32px;\n",
              "  }\n",
              "\n",
              "  .colab-df-quickchart:hover {\n",
              "    background-color: var(--hover-bg-color);\n",
              "    box-shadow: 0 1px 2px rgba(60, 64, 67, 0.3), 0 1px 3px 1px rgba(60, 64, 67, 0.15);\n",
              "    fill: var(--button-hover-fill-color);\n",
              "  }\n",
              "\n",
              "  .colab-df-quickchart-complete:disabled,\n",
              "  .colab-df-quickchart-complete:disabled:hover {\n",
              "    background-color: var(--disabled-bg-color);\n",
              "    fill: var(--disabled-fill-color);\n",
              "    box-shadow: none;\n",
              "  }\n",
              "\n",
              "  .colab-df-spinner {\n",
              "    border: 2px solid var(--fill-color);\n",
              "    border-color: transparent;\n",
              "    border-bottom-color: var(--fill-color);\n",
              "    animation:\n",
              "      spin 1s steps(1) infinite;\n",
              "  }\n",
              "\n",
              "  @keyframes spin {\n",
              "    0% {\n",
              "      border-color: transparent;\n",
              "      border-bottom-color: var(--fill-color);\n",
              "      border-left-color: var(--fill-color);\n",
              "    }\n",
              "    20% {\n",
              "      border-color: transparent;\n",
              "      border-left-color: var(--fill-color);\n",
              "      border-top-color: var(--fill-color);\n",
              "    }\n",
              "    30% {\n",
              "      border-color: transparent;\n",
              "      border-left-color: var(--fill-color);\n",
              "      border-top-color: var(--fill-color);\n",
              "      border-right-color: var(--fill-color);\n",
              "    }\n",
              "    40% {\n",
              "      border-color: transparent;\n",
              "      border-right-color: var(--fill-color);\n",
              "      border-top-color: var(--fill-color);\n",
              "    }\n",
              "    60% {\n",
              "      border-color: transparent;\n",
              "      border-right-color: var(--fill-color);\n",
              "    }\n",
              "    80% {\n",
              "      border-color: transparent;\n",
              "      border-right-color: var(--fill-color);\n",
              "      border-bottom-color: var(--fill-color);\n",
              "    }\n",
              "    90% {\n",
              "      border-color: transparent;\n",
              "      border-bottom-color: var(--fill-color);\n",
              "    }\n",
              "  }\n",
              "</style>\n",
              "\n",
              "  <script>\n",
              "    async function quickchart(key) {\n",
              "      const quickchartButtonEl =\n",
              "        document.querySelector('#' + key + ' button');\n",
              "      quickchartButtonEl.disabled = true;  // To prevent multiple clicks.\n",
              "      quickchartButtonEl.classList.add('colab-df-spinner');\n",
              "      try {\n",
              "        const charts = await google.colab.kernel.invokeFunction(\n",
              "            'suggestCharts', [key], {});\n",
              "      } catch (error) {\n",
              "        console.error('Error during call to suggestCharts:', error);\n",
              "      }\n",
              "      quickchartButtonEl.classList.remove('colab-df-spinner');\n",
              "      quickchartButtonEl.classList.add('colab-df-quickchart-complete');\n",
              "    }\n",
              "    (() => {\n",
              "      let quickchartButtonEl =\n",
              "        document.querySelector('#df-b75faebe-10c8-49d7-a097-17f0365aea8b button');\n",
              "      quickchartButtonEl.style.display =\n",
              "        google.colab.kernel.accessAllowed ? 'block' : 'none';\n",
              "    })();\n",
              "  </script>\n",
              "</div>\n",
              "\n",
              "    </div>\n",
              "  </div>\n"
            ],
            "application/vnd.google.colaboratory.intrinsic+json": {
              "type": "dataframe",
              "variable_name": "df",
              "summary": "{\n  \"name\": \"df\",\n  \"rows\": 8,\n  \"fields\": [\n    {\n      \"column\": \"Educational Program\",\n      \"properties\": {\n        \"dtype\": \"string\",\n        \"num_unique_values\": 8,\n        \"samples\": [\n          \"Innovation Management\",\n          \"IT Business Analysis\",\n          \"E-Business\"\n        ],\n        \"semantic_type\": \"\",\n        \"description\": \"\"\n      }\n    },\n    {\n      \"column\": \"Motivational Letter\",\n      \"properties\": {\n        \"dtype\": \"string\",\n        \"num_unique_values\": 8,\n        \"samples\": [\n          \"Dear Admissions Committee, In today\\u2019s rapidly changing world, innovation is the driving force behind business success. I am passionate about fostering creative ideas, managing change, and translating innovations into impactful solutions. Pursuing a degree in Innovation Management will provide me with the tools to lead businesses through transformation and inspire groundbreaking advancements.\\nMy interest in innovation stems from participating in hackathons and business competitions where I collaborated with peers to generate creative solutions to real-world challenges. I have also worked on a high school project aimed at improving waste management efficiency in my community, where I learned the importance of aligning innovative ideas with practical implementation.\\nYour program\\u2019s emphasis on entrepreneurship, strategic thinking, and technology adoption perfectly aligns with my aspirations to become a leader in innovation. I am particularly drawn to courses that focus on design thinking and organizational change, as I believe these are critical to fostering a culture of innovation. Additionally, I look forward to gaining hands-on experience through case studies and collaborative projects.\\nI am confident that your program will prepare me to become a visionary leader capable of driving sustainable innovation in industries worldwide. Thank you for considering my application.\\nSincerely, Your Name\",\n          \"Dear Admissions Committee, The synergy between business and technology has always fascinated me, and I aspire to bridge the gap between these domains. Pursuing a degree in IT Business Analysis will equip me with the skills to identify business needs, design solutions, and drive technological transformation. During high school, I participated in a technology club where we explored real-world challenges and proposed IT solutions. One project involved designing a prototype for a student task management app, where I learned the importance of understanding user requirements and aligning them with technical capabilities. This experience cemented my interest in IT business analysis as a career path. Your program\\u2019s emphasis on requirements engineering, systems analysis, and project management perfectly aligns with my aspirations. I am particularly excited about opportunities to work on case studies and collaborate with peers on real-world projects. These experiences will prepare me to contribute meaningfully to industries undergoing digital transformation. Thank you for considering my application. I am eager to bring my passion and commitment to your program. Sincerely, Your Name\",\n          \"Dear Admissions Committee, The rapid digitalization of global commerce has fundamentally transformed the way businesses operate. I am eager to pursue a degree in E-Business to equip myself with the knowledge and skills required to navigate and contribute to this dynamic field. My fascination lies in the intersection of technology and entrepreneurship, and I aspire to develop innovative digital solutions that redefine traditional business practices. Throughout high school, I actively participated in entrepreneurial clubs and digital marketing workshops, which enhanced my understanding of business models, consumer behavior, and online platforms. Additionally, I launched a small online venture to sell handmade products, where I learned about e-commerce platforms, digital payment systems, and customer engagement strategies. These experiences deepened my interest in leveraging technology to create impactful businesses. By enrolling in your E-Business program, I look forward to mastering subjects such as digital marketing, e-commerce infrastructure, and online consumer analytics. I am particularly excited about opportunities to work on practical projects and gain insights from industry partnerships. I believe these will prepare me to launch innovative e-business ventures and thrive in an ever-evolving digital economy. Thank you for considering my application. I am excited about the opportunity to contribute to and grow within your program. Sincerely, Your Name\"\n        ],\n        \"semantic_type\": \"\",\n        \"description\": \"\"\n      }\n    }\n  ]\n}"
            }
          },
          "metadata": {},
          "execution_count": 26
        }
      ],
      "execution_count": 26
    },
    {
      "cell_type": "code",
      "source": [
        "X = df['Motivational Letter']\n",
        "y = df['Educational Program']\n",
        "len(X)\n",
        "print(y.value_counts())"
      ],
      "metadata": {
        "trusted": true,
        "execution": {
          "iopub.status.busy": "2024-12-22T13:56:20.601433Z",
          "iopub.execute_input": "2024-12-22T13:56:20.601808Z",
          "iopub.status.idle": "2024-12-22T13:56:20.608417Z",
          "shell.execute_reply.started": "2024-12-22T13:56:20.601776Z",
          "shell.execute_reply": "2024-12-22T13:56:20.606983Z"
        },
        "id": "-ptGj4ybov18",
        "outputId": "e54a001d-92c5-4004-b169-029a6778e81c",
        "colab": {
          "base_uri": "https://localhost:8080/"
        }
      },
      "outputs": [
        {
          "output_type": "stream",
          "name": "stdout",
          "text": [
            "Educational Program\n",
            "E-Business                      1\n",
            "Innovation Management           1\n",
            "Business Journalism, SMM, PR    1\n",
            "Computer Science                1\n",
            "Big Data Analytics              1\n",
            "IT Business Analysis            1\n",
            "Information Systems             1\n",
            "Financial Engineering           1\n",
            "Name: count, dtype: int64\n"
          ]
        }
      ],
      "execution_count": 27
    },
    {
      "cell_type": "code",
      "source": [
        "from sklearn.model_selection import train_test_split\n",
        "X_train, X_test, y_train, y_test = train_test_split(X, y, test_size=0.2, random_state=42)"
      ],
      "metadata": {
        "trusted": true,
        "execution": {
          "iopub.status.busy": "2024-12-22T13:54:47.790209Z",
          "iopub.execute_input": "2024-12-22T13:54:47.790595Z",
          "iopub.status.idle": "2024-12-22T13:54:47.798105Z",
          "shell.execute_reply.started": "2024-12-22T13:54:47.79056Z",
          "shell.execute_reply": "2024-12-22T13:54:47.796935Z"
        },
        "id": "aWI380m9ov19"
      },
      "outputs": [],
      "execution_count": 28
    },
    {
      "cell_type": "code",
      "source": [
        "from sklearn.pipeline import Pipeline\n",
        "from sklearn.feature_extraction.text import TfidfVectorizer\n",
        "from sklearn.naive_bayes import MultinomialNB, ComplementNB\n",
        "from sklearn.svm import LinearSVC\n",
        "from sklearn.metrics import accuracy_score, classification_report"
      ],
      "metadata": {
        "trusted": true,
        "execution": {
          "iopub.status.busy": "2024-12-22T13:55:02.934964Z",
          "iopub.execute_input": "2024-12-22T13:55:02.935289Z",
          "iopub.status.idle": "2024-12-22T13:55:02.940266Z",
          "shell.execute_reply.started": "2024-12-22T13:55:02.935264Z",
          "shell.execute_reply": "2024-12-22T13:55:02.939Z"
        },
        "id": "cp6eN2M9ov19"
      },
      "outputs": [],
      "execution_count": 29
    },
    {
      "cell_type": "code",
      "source": [
        "# pipelineMNB = Pipeline([('tfidf', TfidfVectorizer(stop_words='english')), ('clf', MultinomialNB())])\n",
        "# pipelineCNB = Pipeline([('tfidf', TfidfVectorizer(ngram_range=(1,3))), ('clf', ComplementNB())])\n",
        "pipelineSVC = Pipeline([('tfidf', TfidfVectorizer(stop_words='english',ngram_range=(1,3))), ('clf', LinearSVC(class_weight='balanced'))])"
      ],
      "metadata": {
        "trusted": true,
        "execution": {
          "iopub.status.busy": "2024-12-22T13:55:04.906913Z",
          "iopub.execute_input": "2024-12-22T13:55:04.907267Z",
          "iopub.status.idle": "2024-12-22T13:55:04.912991Z",
          "shell.execute_reply.started": "2024-12-22T13:55:04.907236Z",
          "shell.execute_reply": "2024-12-22T13:55:04.911508Z"
        },
        "id": "GbnFPfEkov1-"
      },
      "outputs": [],
      "execution_count": 30
    },
    {
      "cell_type": "code",
      "source": [
        "pipelineSVC.fit(X_train, y_train)\n",
        "predictSVC = pipelineSVC.predict(X_test)\n",
        "print(f\"SVC: {accuracy_score(y_test, predictSVC):.2f}\")"
      ],
      "metadata": {
        "trusted": true,
        "execution": {
          "iopub.status.busy": "2024-12-22T13:55:45.190086Z",
          "iopub.execute_input": "2024-12-22T13:55:45.190468Z",
          "iopub.status.idle": "2024-12-22T13:55:45.212485Z",
          "shell.execute_reply.started": "2024-12-22T13:55:45.190425Z",
          "shell.execute_reply": "2024-12-22T13:55:45.211344Z"
        },
        "id": "nan44ZV9ov1_",
        "outputId": "1b4fd5f4-6156-41d7-b681-18582e18d833",
        "colab": {
          "base_uri": "https://localhost:8080/"
        }
      },
      "outputs": [
        {
          "output_type": "stream",
          "name": "stdout",
          "text": [
            "SVC: 0.00\n"
          ]
        }
      ],
      "execution_count": 31
    },
    {
      "cell_type": "code",
      "source": [
        "mot_let = \"Dear Admissions Committee, The rise of digital technologies has redefined the way businesses operate, and I am deeply inspired to contribute to this transformative era. Pursuing a degree in E-Business offers the perfect opportunity for me to combine my interest in technology with my entrepreneurial ambitions. During high school, I became fascinated with how online platforms revolutionized traditional commerce. I participated in an entrepreneurship competition, where my team proposed an e-commerce platform for local artisans. This experience taught me the importance of digital tools in reaching broader audiences and building customer trust. Additionally, I gained hands-on experience managing a small blog focused on consumer trends, which honed my skills in content creation and analytics. I am particularly drawn to your E-Business program’s focus on digital marketing, e-commerce platforms, and data-driven decision-making. I am excited about opportunities to learn about real-world applications of technology in business through case studies and practical projects. I believe this program will empower me to create innovative online ventures and navigate the rapidly evolving digital economy. Thank you for considering my application. I am eager to grow academically and contribute meaningfully to your program. Sincerely, [Your Name]\"\n",
        "mot_let2 = \"Dear Admissions Committee, Computer science has revolutionized the way we live, work, and interact. I am inspired to contribute to this evolving field by pursuing a degree in Computer Science, which will enable me to develop innovative solutions to real-world challenges. My fascination with technology began when I built my first website during middle school. This experience introduced me to coding, and I was captivated by the process of turning ideas into functional programs. Since then, I have explored programming languages like Python and Java, participated in coding competitions, and completed online courses to deepen my understanding of algorithms and data structures. Your program’s rigorous curriculum, which includes artificial intelligence, software development, and cybersecurity, excites me. I am particularly eager to work on hands-on projects and collaborate with peers who share my passion for technology. I believe this program will prepare me to innovate in fields such as AI, robotics, and software engineering. Thank you for considering my application. I look forward to contributing to your program and growing as a computer scientist. Sincerely, [Your Name]\"\n",
        "\n",
        "clsf = pipelineSVC.predict([mot_let, mot_let2])\n",
        "print(clsf)"
      ],
      "metadata": {
        "trusted": true,
        "execution": {
          "iopub.status.busy": "2024-12-22T14:00:11.977269Z",
          "iopub.execute_input": "2024-12-22T14:00:11.977607Z",
          "iopub.status.idle": "2024-12-22T14:00:11.986549Z",
          "shell.execute_reply.started": "2024-12-22T14:00:11.977579Z",
          "shell.execute_reply": "2024-12-22T14:00:11.984758Z"
        },
        "id": "MICD3wGdov2A",
        "outputId": "19febdcf-4600-4a30-ec9f-c31ce614dbdd",
        "colab": {
          "base_uri": "https://localhost:8080/"
        }
      },
      "outputs": [
        {
          "output_type": "stream",
          "name": "stdout",
          "text": [
            "['E-Business' 'Computer Science']\n"
          ]
        }
      ],
      "execution_count": 32
    }
  ]
}